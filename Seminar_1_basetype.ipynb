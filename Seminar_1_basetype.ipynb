{
 "cells": [
  {
   "cell_type": "markdown",
   "metadata": {},
   "source": [
    "## Введение в Python"
   ]
  },
  {
   "cell_type": "markdown",
   "metadata": {},
   "source": [
    "### Базовые типы данных "
   ]
  },
  {
   "cell_type": "markdown",
   "metadata": {},
   "source": [
    "### Числа"
   ]
  },
  {
   "cell_type": "code",
   "execution_count": 7,
   "metadata": {},
   "outputs": [
    {
     "name": "stdout",
     "output_type": "stream",
     "text": [
      "a = 1 <class 'int'>\n",
      "a = 1 <class 'float'>\n",
      "a = 1.0+1.0i <class 'complex'>\n"
     ]
    }
   ],
   "source": [
    "a = 1\n",
    "print('a = %d'%a, type(a))\n",
    "a = 1.0\n",
    "print('a = %d'%a, type(a))\n",
    "a = complex(1, 1)\n",
    "print('a = %.1f+%.1fi'%(a.real, a.imag), type(a))"
   ]
  },
  {
   "cell_type": "code",
   "execution_count": 8,
   "metadata": {},
   "outputs": [
    {
     "name": "stdout",
     "output_type": "stream",
     "text": [
      "a = 0.3333333333333333 <class 'float'>\n",
      "b = 1 <class 'int'>\n",
      "c = 1.3333333333333333 <class 'float'>\n"
     ]
    }
   ],
   "source": [
    "#приведение типов\n",
    "a = 1/3\n",
    "print('a =', a, type(a))\n",
    "b = 5%2\n",
    "print('b =', b, type(b))\n",
    "c = a+b \n",
    "print('c =', c, type(c))"
   ]
  },
  {
   "cell_type": "code",
   "execution_count": 9,
   "metadata": {},
   "outputs": [
    {
     "name": "stdout",
     "output_type": "stream",
     "text": [
      "pi = 3.14, sqrt(pi) = 1.77\n"
     ]
    }
   ],
   "source": [
    "#числовые опирации\n",
    "#стандартные: +(сложение), -(вычитание), /(деление), *(умножение), **(возведение в степень)\n",
    "\n",
    "import math \n",
    "print('pi = %.2f, sqrt(pi) = %.2f'%(math.pi, math.sqrt(math.pi)))"
   ]
  },
  {
   "cell_type": "markdown",
   "metadata": {},
   "source": [
    "Ссылка на документацию модуля math: https://docs.python.org/3/library/math.html"
   ]
  },
  {
   "cell_type": "markdown",
   "metadata": {},
   "source": [
    "### Списки"
   ]
  },
  {
   "cell_type": "code",
   "execution_count": 16,
   "metadata": {},
   "outputs": [
    {
     "name": "stdout",
     "output_type": "stream",
     "text": [
      "[1, 'a', [2, 'b']] <class 'list'>\n",
      "Длинна списка - 3\n",
      "Нулевой элемент списка равен - 1 , а последний - [2, 'b']\n",
      "\n",
      "Срезы: [1, 'a'] [[2, 'b']]\n"
     ]
    }
   ],
   "source": [
    "#Списки – это упорядоченные по местоположению коллекции объектов произвольных типов, размер которых не ограничен.\n",
    "\n",
    "my_list = [1, 'a', [2, 'b']]\n",
    "print(my_list, type(my_list))\n",
    "print('Длина списка - %d'%len(my_list))\n",
    "print('Нулевой элемент списка равен -', my_list[0], ', а последний -', my_list[-1])\n",
    "\n",
    "#срезы \n",
    "print('\\nСрезы:', my_list[:2], my_list[-1:])"
   ]
  },
  {
   "cell_type": "code",
   "execution_count": 22,
   "metadata": {},
   "outputs": [
    {
     "name": "stdout",
     "output_type": "stream",
     "text": [
      "array2: [1, 2, 3]\n",
      "array2: [1, 4, 3]\n",
      "array1:\n"
     ]
    }
   ],
   "source": [
    "#Важно!!!\n",
    "array1 = [1, 2, 3]\n",
    "array2 = array1\n",
    "print('array2:', array2)\n",
    "\n",
    "array2[1] = 4\n",
    "print('array2:', array2)\n",
    "\n",
    "#чему равен array1?\n",
    "print('array1:', array1)"
   ]
  },
  {
   "cell_type": "code",
   "execution_count": 24,
   "metadata": {},
   "outputs": [
    {
     "name": "stdout",
     "output_type": "stream",
     "text": [
      "array2: [1, 2, 3]\n",
      "array2: [1, 4, 3]\n",
      "array1:\n"
     ]
    }
   ],
   "source": [
    "from copy import copy\n",
    "\n",
    "array1 = [1, 2, 3]\n",
    "array2 = copy(array1)\n",
    "print('array2:', array2)\n",
    "\n",
    "array2[1] = 4\n",
    "print('array2:', array2)\n",
    "\n",
    "#чему равен array1?\n",
    "print('array1:', array1)"
   ]
  },
  {
   "cell_type": "code",
   "execution_count": 37,
   "metadata": {},
   "outputs": [
    {
     "name": "stdout",
     "output_type": "stream",
     "text": [
      "1. [1, 2, 3, 4]\n",
      "2. 4 [1, 2, 3]\n",
      "3. 2 [1, 3]\n",
      "4. [1, 3, 7, 5]\n",
      "5. None [1, 3, 5, 7]\n",
      "6. [1, 3, 5, 7] [1, 3, 7, 5]\n",
      "7. [5, 7, 3, 1]\n"
     ]
    }
   ],
   "source": [
    "#операции над списками\n",
    "array1 = [1, 2, 3]\n",
    "array1.append(4)\n",
    "print('1.', array1)\n",
    "print('2.', array1.pop(), array1)\n",
    "print('3.', array1.pop(1), array1)\n",
    "\n",
    "array1 = array1 + [7, 5] # array1 += [5, 7]\n",
    "print('4.', array1)\n",
    "\n",
    "print('5.', array1.sort(), array1)\n",
    "array1 = [1, 3, 7, 5]\n",
    "print('6.', sorted(array1), array1)\n",
    "\n",
    "array1.reverse()\n",
    "print('7.', array1)"
   ]
  },
  {
   "cell_type": "code",
   "execution_count": 54,
   "metadata": {},
   "outputs": [
    {
     "name": "stdout",
     "output_type": "stream",
     "text": [
      "Способ 1\n",
      "my_matrix[0][0] = 1\n",
      "my_matrix[1][1] = 5\n",
      "my_matrix[2][2] = 9\n",
      "Способ 2\n",
      "my_matrix[0][0] = 1\n",
      "my_matrix[1][1] = 5\n",
      "my_matrix[2][2] = 9\n",
      "Способ 3\n",
      "my_matrix[0][0] = 1\n",
      "my_matrix[1][1] = 5\n",
      "my_matrix[2][2] = 9\n",
      "Способ 4\n",
      " [1, 5, 9]\n"
     ]
    }
   ],
   "source": [
    "#вложенные списки\n",
    "my_matrix = [[1, 2, 3], [4, 5, 6], [7, 8, 9]]\n",
    "\n",
    "#вывести на экран диагональные элементы\n",
    "print('Способ 1')\n",
    "for i in range(len(my_matrix)):\n",
    "    for j in range(len(my_matrix[i])):\n",
    "        if i == j:\n",
    "            print('my_matrix[%d][%d] = %d'%(i, j, my_matrix[i][j]))\n",
    "\n",
    "print('Способ 2')\n",
    "for i, row in enumerate(my_matrix):\n",
    "    for j, element in enumerate(row):\n",
    "        if i==j:\n",
    "            print('my_matrix[%d][%d] = %d'%(i, j, element))\n",
    "\n",
    "print('Способ 3')\n",
    "for i, row in enumerate(my_matrix):\n",
    "    print('my_matrix[%d][%d] = %d'%(i, i, row[i]))\n",
    "\n",
    "print('Способ 4\\n', [row[i] for i, row in enumerate(my_matrix)])"
   ]
  },
  {
   "cell_type": "code",
   "execution_count": 61,
   "metadata": {},
   "outputs": [
    {
     "name": "stdout",
     "output_type": "stream",
     "text": [
      "[1, 1, 1]\n",
      "[[1, 2, 3], [1, 2, 3], [1, 2, 3], [1, 2, 3], [1, 2, 3]]\n",
      "b - ?\n"
     ]
    }
   ],
   "source": [
    "a = 3*[1]\n",
    "print(a)\n",
    "b = 5*[[1, 2, 3]]\n",
    "print(b)\n",
    "b[0] = a\n",
    "print('b - ?')\n",
    "#print(b)"
   ]
  },
  {
   "cell_type": "markdown",
   "metadata": {},
   "source": [
    "### Строки"
   ]
  },
  {
   "cell_type": "code",
   "execution_count": 30,
   "metadata": {},
   "outputs": [
    {
     "name": "stdout",
     "output_type": "stream",
     "text": [
      "Hello, World!\n",
      "<type 'str'>\n",
      "Length 13\n"
     ]
    }
   ],
   "source": [
    "string = 'Hello, World!'\n",
    "print(string)\n",
    "print(type(string))\n",
    "print('Length %d'%len(string))"
   ]
  },
  {
   "cell_type": "code",
   "execution_count": 5,
   "metadata": {},
   "outputs": [
    {
     "name": "stdout",
     "output_type": "stream",
     "text": [
      "Char 0 -- H\n",
      "Char 1 -- e\n",
      "Char 2 -- l\n",
      "Char 3 -- l\n",
      "Char 4 -- o\n",
      "Char 5 -- ,\n",
      "Char 6 --  \n",
      "Char 7 -- W\n",
      "Char 8 -- o\n",
      "Char 9 -- r\n",
      "Char 10 -- l\n",
      "Char 11 -- d\n",
      "Char 12 -- !\n"
     ]
    }
   ],
   "source": [
    "#отдельные символы строки можно извлечь с помощью выражений индексирования\n",
    "for i in xrange(len(string)):\n",
    "    print('Char %d -- %c'%(i, string[i]))"
   ]
  },
  {
   "cell_type": "code",
   "execution_count": 6,
   "metadata": {},
   "outputs": [
    {
     "name": "stdout",
     "output_type": "stream",
     "text": [
      "Hello  World\n"
     ]
    }
   ],
   "source": [
    "#как и для списков придусмотрены срезы и возможность индексации в обратном порядке\n",
    "print('%s %s'%(string[:5], string[-7:-1]))"
   ]
  },
  {
   "cell_type": "code",
   "execution_count": 7,
   "metadata": {},
   "outputs": [
    {
     "data": {
      "text/plain": [
       "\"Hello, World!I'm born =)\""
      ]
     },
     "execution_count": 7,
     "metadata": {},
     "output_type": "execute_result"
    }
   ],
   "source": [
    "#конкатенация строк\n",
    "string+'I\\'m born =)'"
   ]
  },
  {
   "cell_type": "markdown",
   "metadata": {},
   "source": [
    "Обратите внимание, что знак плюс (+) имеет различное значение для разных объектов: для чисел – сложение, а для строк – конкатенация. Это универсальное свойство языка Python, которое называется полиморфизмом, означает, что фактически выполняемая операция зависит от объектов, которые принимают в ней участие."
   ]
  },
  {
   "cell_type": "code",
   "execution_count": 8,
   "metadata": {},
   "outputs": [
    {
     "ename": "TypeError",
     "evalue": "'str' object does not support item assignment",
     "output_type": "error",
     "traceback": [
      "\u001b[0;31m---------------------------------------------------------------------------\u001b[0m",
      "\u001b[0;31mTypeError\u001b[0m                                 Traceback (most recent call last)",
      "\u001b[0;32m<ipython-input-8-71acd57463d8>\u001b[0m in \u001b[0;36m<module>\u001b[0;34m()\u001b[0m\n\u001b[1;32m      1\u001b[0m \u001b[0;31m#строки являются неизменяемыми\u001b[0m\u001b[0;34m\u001b[0m\u001b[0;34m\u001b[0m\u001b[0m\n\u001b[0;32m----> 2\u001b[0;31m \u001b[0mstring\u001b[0m\u001b[0;34m[\u001b[0m\u001b[0;36m0\u001b[0m\u001b[0;34m]\u001b[0m \u001b[0;34m=\u001b[0m \u001b[0;34m'Y'\u001b[0m\u001b[0;34m\u001b[0m\u001b[0m\n\u001b[0m",
      "\u001b[0;31mTypeError\u001b[0m: 'str' object does not support item assignment"
     ]
    }
   ],
   "source": [
    "#строки неизменяемые!!!\n",
    "string[0] = 'Y'"
   ]
  },
  {
   "cell_type": "code",
   "execution_count": 13,
   "metadata": {},
   "outputs": [
    {
     "name": "stdout",
     "output_type": "stream",
     "text": [
      "The World in the string starts with the 7\n",
      "There is no Space in the string\n"
     ]
    }
   ],
   "source": [
    "#методы специфичные для строк\n",
    "begin_index_w = string.find('World')\n",
    "begin_index_s = string.find('Space')\n",
    "\n",
    "for word, begin_index in zip(['World', 'Space'], [begin_index_w, begin_index_s]):\n",
    "    if begin_index != -1:\n",
    "        print(('The '+word+' in the string starts with the %d')%begin_index)\n",
    "    else:\n",
    "        print('There is no '+word+' in the string')"
   ]
  },
  {
   "cell_type": "code",
   "execution_count": 18,
   "metadata": {},
   "outputs": [
    {
     "data": {
      "text/plain": [
       "'Hello, Space!'"
      ]
     },
     "execution_count": 18,
     "metadata": {},
     "output_type": "execute_result"
    }
   ],
   "source": [
    "string.replace('World', 'Space')"
   ]
  },
  {
   "cell_type": "code",
   "execution_count": 31,
   "metadata": {},
   "outputs": [
    {
     "name": "stdout",
     "output_type": "stream",
     "text": [
      "List:   ['Hello', ' World!']\n",
      "String: Hello, World!\n"
     ]
    }
   ],
   "source": [
    "words = string.split(',')\n",
    "print('List:   %s'%words)\n",
    "string = ','.join(words)\n",
    "print('String: %s'%string)"
   ]
  },
  {
   "cell_type": "code",
   "execution_count": 24,
   "metadata": {},
   "outputs": [
    {
     "data": {
      "text/plain": [
       "'HELLO, WORLD!; hello, world!'"
      ]
     },
     "execution_count": 24,
     "metadata": {},
     "output_type": "execute_result"
    }
   ],
   "source": [
    "'{0}; {1}'.format(string.upper(), string.lower())"
   ]
  },
  {
   "cell_type": "markdown",
   "metadata": {},
   "source": [
    "### Кортежи"
   ]
  },
  {
   "cell_type": "code",
   "execution_count": 34,
   "metadata": {},
   "outputs": [
    {
     "name": "stdout",
     "output_type": "stream",
     "text": [
      "((1, 'a'), <type 'tuple'>)\n",
      "List of tuples: [(1, 'a'), (2, 'b'), (3, 'c'), (4, 'd'), (5, 'e')]\n"
     ]
    }
   ],
   "source": [
    "a = (1, 'a')\n",
    "print(a, type(a))\n",
    "\n",
    "nlist = [1, 2, 3, 4, 5]\n",
    "clist = ['a', 'b', 'c', 'd', 'e']\n",
    "print('List of tuples: %s'%zip(nlist, clist))"
   ]
  },
  {
   "cell_type": "markdown",
   "metadata": {},
   "source": [
    "### Множества\n",
    "\n",
    "http://www.ilnurgi1.ru/docs/python/base/set.html"
   ]
  },
  {
   "cell_type": "code",
   "execution_count": 55,
   "metadata": {},
   "outputs": [
    {
     "name": "stdout",
     "output_type": "stream",
     "text": [
      "<type 'set'>\n",
      "set([1, 2])\n",
      "set([1, 2, 3])\n",
      "set([1, 2, 3, 4, 5])\n",
      "(1, set([2, 3, 4, 5]))\n",
      "(None, set([2, 3, 5]))\n"
     ]
    }
   ],
   "source": [
    "a = set([1, 2, 1])\n",
    "print(type(a))\n",
    "print(a)\n",
    "a.add(3)\n",
    "print(a)\n",
    "a.update([5, 3, 4])\n",
    "print(a)\n",
    "print(a.pop(), a)\n",
    "print(a.remove(4), a)"
   ]
  },
  {
   "cell_type": "code",
   "execution_count": 46,
   "metadata": {},
   "outputs": [
    {
     "name": "stdout",
     "output_type": "stream",
     "text": [
      "set([1, 2])\n",
      "set([])\n",
      "b - ?\n"
     ]
    }
   ],
   "source": [
    "a = set([1, 2, 1])\n",
    "b = a\n",
    "print(b)\n",
    "a.clear()\n",
    "print(a)\n",
    "print(b)"
   ]
  },
  {
   "cell_type": "code",
   "execution_count": 48,
   "metadata": {},
   "outputs": [
    {
     "name": "stdout",
     "output_type": "stream",
     "text": [
      "set([1, 2])\n",
      "set([])\n",
      "?\n"
     ]
    }
   ],
   "source": [
    "a = set([1, 2, 1])\n",
    "b = a.copy()\n",
    "print(b)\n",
    "a.clear()\n",
    "print(a)\n",
    "print(b)"
   ]
  },
  {
   "cell_type": "code",
   "execution_count": 35,
   "metadata": {
    "collapsed": true
   },
   "outputs": [],
   "source": [
    "string = 'In mathematics, a set is a well-defined collection of distinct objects, considered as an object in its own right. For example, the numbers 2, 4, and 6 are distinct objects when considered separately, but when they are considered collectively they form a single set of size three, written {2,4,6}. Sets are one of the most fundamental concepts in mathematics. Developed at the end of the 19th century, set theory is now a ubiquitous part of mathematics, and can be used as a foundation from which nearly all of mathematics can be derived. In mathematics education, elementary topics such as Venn diagrams are taught at a young age, while more advanced concepts are taught as part of a university degree. The German word Menge, rendered as \"set\" in English, was coined by Bernard Bolzano in his work The Paradoxes of the Infinite.'"
   ]
  },
  {
   "cell_type": "code",
   "execution_count": 39,
   "metadata": {},
   "outputs": [
    {
     "name": "stdout",
     "output_type": "stream",
     "text": [
      "Number of words - 141\n",
      "Number of unique words - 94\n"
     ]
    }
   ],
   "source": [
    "words = string.split(' ')\n",
    "print('Number of words - %d'%len(words))\n",
    "lower_words = [word.lower() for word in words]\n",
    "set_words = set(words)\n",
    "print('Number of unique words - %d'%len(set_words))"
   ]
  },
  {
   "cell_type": "markdown",
   "metadata": {},
   "source": [
    "### Cловари \n",
    "\n",
    "http://www.ilnurgi1.ru/docs/python/base/dicts.html"
   ]
  },
  {
   "cell_type": "code",
   "execution_count": 5,
   "metadata": {},
   "outputs": [
    {
     "name": "stdout",
     "output_type": "stream",
     "text": [
      "{'b': 2, 'a': 1} <class 'dict'>\n"
     ]
    }
   ],
   "source": [
    "a = {'a':1, 'b':2}\n",
    "print(a, type(a))"
   ]
  },
  {
   "cell_type": "code",
   "execution_count": 57,
   "metadata": {},
   "outputs": [
    {
     "name": "stdout",
     "output_type": "stream",
     "text": [
      "Length of dictionary - 92\n"
     ]
    }
   ],
   "source": [
    "dictionary = {}\n",
    "for word in lower_words:\n",
    "    dictionary.setdefault(word, 0)\n",
    "    dictionary[word] += 1\n",
    "\n",
    "print('Length of dictionary - %d'%len(dictionary))"
   ]
  },
  {
   "cell_type": "code",
   "execution_count": 69,
   "metadata": {},
   "outputs": [
    {
     "name": "stdout",
     "output_type": "stream",
     "text": [
      "['all', 'derived.', 'german', '\"set\"', 'own', '{2,4,6}.', 'its', 'paradoxes', 'young', 'bernard', 'developed', '2,', 'his', 'which', 'nearly', 'they', 'now', 'advanced', 'menge,', 'bolzano', 'degree.', 'university', 'set', 'be', 'collectively', 'taught', 'are', 'century,', 'for', '19th', 'foundation', 'theory', 'written', 'example,', 'objects', 'by', 'of', 'rendered', 'one', 'education,', 'elementary', 'venn', 'size', 'from', 'distinct', '6', 'right.', 'was', 'topics', 'diagrams', 'more', 'form', 'but', 'three,', 'part', 'infinite.', 'objects,', 'word', 'work', 'single', 'while', 'can', 'concepts', 'at', 'and', 'is', 'an', 'as', 'well-defined', 'numbers', 'in', 'end', 'when', '4,', 'mathematics.', 'mathematics,', 'mathematics', 'used', 'ubiquitous', 'separately,', 'coined', 'object', 'collection', 'most', 'age,', 'such', 'a', 'considered', 'english,', 'fundamental', 'sets', 'the']\n"
     ]
    }
   ],
   "source": [
    "keys = dictionary.keys()\n",
    "print(keys)"
   ]
  },
  {
   "cell_type": "code",
   "execution_count": 70,
   "metadata": {},
   "outputs": [
    {
     "name": "stdout",
     "output_type": "stream",
     "text": [
      "[1, 1, 1, 1, 1, 1, 1, 1, 1, 1, 1, 1, 1, 1, 1, 2, 1, 1, 1, 1, 1, 1, 3, 2, 1, 2, 5, 1, 1, 1, 1, 1, 1, 1, 1, 1, 8, 1, 1, 1, 1, 1, 1, 1, 2, 1, 1, 1, 1, 1, 1, 1, 1, 1, 2, 1, 1, 1, 1, 1, 1, 2, 2, 2, 2, 2, 1, 5, 1, 1, 6, 1, 2, 1, 1, 2, 2, 1, 1, 1, 1, 1, 1, 1, 1, 1, 7, 3, 1, 1, 1, 7]\n"
     ]
    }
   ],
   "source": [
    "values = dictionary.values()\n",
    "print(values)"
   ]
  },
  {
   "cell_type": "code",
   "execution_count": 61,
   "metadata": {},
   "outputs": [
    {
     "name": "stdout",
     "output_type": "stream",
     "text": [
      "[('all', 1), ('derived.', 1), ('german', 1), ('\"set\"', 1), ('own', 1), ('{2,4,6}.', 1), ('its', 1), ('paradoxes', 1), ('young', 1), ('bernard', 1), ('developed', 1), ('2,', 1), ('his', 1), ('which', 1), ('nearly', 1), ('they', 2), ('now', 1), ('advanced', 1), ('menge,', 1), ('bolzano', 1), ('degree.', 1), ('university', 1), ('set', 3), ('be', 2), ('collectively', 1), ('taught', 2), ('are', 5), ('century,', 1), ('for', 1), ('19th', 1), ('foundation', 1), ('theory', 1), ('written', 1), ('example,', 1), ('objects', 1), ('by', 1), ('of', 8), ('rendered', 1), ('one', 1), ('education,', 1), ('elementary', 1), ('venn', 1), ('size', 1), ('from', 1), ('distinct', 2), ('6', 1), ('right.', 1), ('was', 1), ('topics', 1), ('diagrams', 1), ('more', 1), ('form', 1), ('but', 1), ('three,', 1), ('part', 2), ('infinite.', 1), ('objects,', 1), ('word', 1), ('work', 1), ('single', 1), ('while', 1), ('can', 2), ('concepts', 2), ('at', 2), ('and', 2), ('is', 2), ('an', 1), ('as', 5), ('well-defined', 1), ('numbers', 1), ('in', 6), ('end', 1), ('when', 2), ('4,', 1), ('mathematics.', 1), ('mathematics,', 2), ('mathematics', 2), ('used', 1), ('ubiquitous', 1), ('separately,', 1), ('coined', 1), ('object', 1), ('collection', 1), ('most', 1), ('age,', 1), ('such', 1), ('a', 7), ('considered', 3), ('english,', 1), ('fundamental', 1), ('sets', 1), ('the', 7)]\n"
     ]
    }
   ],
   "source": [
    "print(dictionary.items())"
   ]
  },
  {
   "cell_type": "code",
   "execution_count": 117,
   "metadata": {},
   "outputs": [
    {
     "data": {
      "text/plain": [
       "True"
      ]
     },
     "execution_count": 117,
     "metadata": {},
     "output_type": "execute_result"
    }
   ],
   "source": [
    "'the' in dictionary"
   ]
  },
  {
   "cell_type": "markdown",
   "metadata": {},
   "source": [
    "### Прочие базовые типы"
   ]
  },
  {
   "cell_type": "code",
   "execution_count": 6,
   "metadata": {},
   "outputs": [
    {
     "name": "stdout",
     "output_type": "stream",
     "text": [
      "None <class 'NoneType'>\n",
      "True <class 'bool'>\n"
     ]
    }
   ],
   "source": [
    "a = None\n",
    "print(a, type(a))\n",
    "a = True\n",
    "print(a, type(a))"
   ]
  },
  {
   "cell_type": "markdown",
   "metadata": {},
   "source": [
    "В языке Python отсутствует конструкция объявления типа, сам синтаксис выполняемых выражений задает типы создаваемых и используемых объектов."
   ]
  },
  {
   "cell_type": "markdown",
   "metadata": {},
   "source": [
    "## Задачи"
   ]
  },
  {
   "cell_type": "markdown",
   "metadata": {},
   "source": [
    "### Задача 1\n",
    "Сформировать список элементов, которые одновременно содержаться и в A, и в B (без дубликатов)."
   ]
  },
  {
   "cell_type": "code",
   "execution_count": 4,
   "metadata": {},
   "outputs": [
    {
     "name": "stdout",
     "output_type": "stream",
     "text": [
      "[1, 2, 3, 5, 8, 13]\n"
     ]
    }
   ],
   "source": [
    "A = [1, 1, 2, 3, 5, 8, 13, 21, 34, 55, 89]\n",
    "B = [1, 2, 3, 4, 5, 6, 7, 8, 9, 10, 11, 12, 13]\n",
    "result=list(set(A) & set(B))\n",
    "print(result)\n",
    "\n",
    "\n",
    "\n",
    "\n"
   ]
  },
  {
   "cell_type": "code",
   "execution_count": null,
   "metadata": {
    "collapsed": true
   },
   "outputs": [],
   "source": [
    "\n",
    "\n"
   ]
  },
  {
   "cell_type": "markdown",
   "metadata": {},
   "source": [
    "### Задача 2\n",
    "\n",
    "Проверить является ли палиндромом каждый элемент списка"
   ]
  },
  {
   "cell_type": "code",
   "execution_count": 8,
   "metadata": {},
   "outputs": [
    {
     "data": {
      "text/plain": [
       "['Ежу хужеЕжу хужеЕжу хуже',\n",
       " 'Лев осовелЛев осовелЛев осовел',\n",
       " 'Зона занозЗона занозЗона заноз',\n",
       " 'Из искры возгорится пламяИз искры возгорится пламяИз искры возгорится пламя',\n",
       " 'Неуч учуенНеуч учуенНеуч учуен',\n",
       " 'Утоп в потуУтоп в потуУтоп в поту',\n",
       " 'Маска как самМаска как самМаска как сам',\n",
       " 'Чем нежен мечЧем нежен мечЧем нежен меч',\n",
       " 'Отмывать деньгиОтмывать деньгиОтмывать деньги',\n",
       " 'Профессор кислых щейПрофессор кислых щейПрофессор кислых щей',\n",
       " 'Накрыться медным тазомНакрыться медным тазомНакрыться медным тазом',\n",
       " 'Там холм лохматТам холм лохматТам холм лохмат',\n",
       " 'Он рёва наверноОн рёва наверноОн рёва наверно',\n",
       " 'Вид усов осудивВид усов осудивВид усов осудив',\n",
       " 'Лев с ума ламу свёлЛев с ума ламу свёлЛев с ума ламу свёл',\n",
       " 'Тёртый калачТёртый калачТёртый калач']"
      ]
     },
     "execution_count": 8,
     "metadata": {},
     "output_type": "execute_result"
    }
   ],
   "source": [
    "Phrases = [u'Ежу хуже', u'Лев осовел', u'Зона заноз', u'Из искры возгорится пламя', u'Неуч учуен', u'Утоп в поту', \n",
    "           u'Маска как сам', u'Чем нежен меч', u'Отмывать деньги', u'Профессор кислых щей', u'Накрыться медным тазом', \n",
    "           u'Там холм лохмат', u'Он рёва наверно', u'Вид усов осудив', u'Лев с ума ламу свёл', u'Тёртый калач']\n",
    "[elem*3 for elem in Phrases]"
   ]
  },
  {
   "cell_type": "code",
   "execution_count": 35,
   "metadata": {},
   "outputs": [
    {
     "data": {
      "text/plain": [
       "[True,\n",
       " True,\n",
       " True,\n",
       " False,\n",
       " True,\n",
       " True,\n",
       " True,\n",
       " True,\n",
       " False,\n",
       " False,\n",
       " False,\n",
       " True,\n",
       " False,\n",
       " True,\n",
       " False,\n",
       " False]"
      ]
     },
     "execution_count": 35,
     "metadata": {},
     "output_type": "execute_result"
    }
   ],
   "source": [
    "Phrases = [u'Ежу хуже', u'Лев осовел', u'Зона заноз', u'Из искры возгорится пламя', u'Неуч учуен', u'Утоп в поту', \n",
    "           u'Маска как сам', u'Чем нежен меч', u'Отмывать деньги', u'Профессор кислых щей', u'Накрыться медным тазом', \n",
    "           u'Там холм лохмат', u'Он рёва наверно', u'Вид усов осудив', u'Лев с ума ламу свёл', u'Тёртый калач']\n",
    "Phrases = [phrase.lower().replace(\" \", \"\") for phrase in Phrases]\n",
    "[phrase[::-1]==phrase for phrase in Phrases]"
   ]
  },
  {
   "cell_type": "markdown",
   "metadata": {},
   "source": [
    "### Задача 3\n",
    "\n",
    "Сформировать список из чётных элементов"
   ]
  },
  {
   "cell_type": "code",
   "execution_count": 12,
   "metadata": {},
   "outputs": [
    {
     "name": "stdout",
     "output_type": "stream",
     "text": [
      "[4, 16, 36, 64, 100]\n"
     ]
    }
   ],
   "source": [
    "A = [1, 4, 9, 16, 25, 36, 49, 64, 81, 100]\n",
    "B = A[1::2]\n",
    "print(B)\n"
   ]
  },
  {
   "cell_type": "code",
   "execution_count": null,
   "metadata": {
    "collapsed": true
   },
   "outputs": [],
   "source": []
  }
 ],
 "metadata": {
  "kernelspec": {
   "display_name": "Python 3",
   "language": "python",
   "name": "python3"
  },
  "language_info": {
   "codemirror_mode": {
    "name": "ipython",
    "version": 3
   },
   "file_extension": ".py",
   "mimetype": "text/x-python",
   "name": "python",
   "nbconvert_exporter": "python",
   "pygments_lexer": "ipython3",
   "version": "3.6.1"
  }
 },
 "nbformat": 4,
 "nbformat_minor": 2
}
