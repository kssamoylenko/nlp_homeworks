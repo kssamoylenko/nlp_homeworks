{
 "cells": [
  {
   "cell_type": "code",
   "execution_count": 1,
   "metadata": {
    "collapsed": true
   },
   "outputs": [],
   "source": [
    "import re\n",
    "import numpy as np\n",
    "\n",
    "from itertools import chain"
   ]
  },
  {
   "cell_type": "code",
   "execution_count": 2,
   "metadata": {
    "collapsed": true
   },
   "outputs": [],
   "source": [
    "import pandas as pd"
   ]
  },
  {
   "cell_type": "markdown",
   "metadata": {},
   "source": [
    "### Задание 1 (10 баллов)\n",
    "\n",
    "Прочитайте данные из emails.csv. В колонке message содержится информация о письме. Вам нужно сформировать несколько таблиц по данным для комфортной работы.\n"
   ]
  },
  {
   "cell_type": "code",
   "execution_count": 3,
   "metadata": {
    "collapsed": true
   },
   "outputs": [],
   "source": [
    "emails = pd.read_csv('emails2.csv')"
   ]
  },
  {
   "cell_type": "markdown",
   "metadata": {},
   "source": [
    "Открыв данные, воспользуемся библиотекой email, чтобы распарсить письма: кажется, наши данные -- это письма в том виде, в каком ои путешествуют по сети, соответственно, удобнее воспользоваться специальными инструментами для их обработки, вместо того, чтобы писать огромные регулярки."
   ]
  },
  {
   "cell_type": "code",
   "execution_count": 4,
   "metadata": {
    "collapsed": true
   },
   "outputs": [],
   "source": [
    "import email\n",
    "from email.utils import parseaddr\n"
   ]
  },
  {
   "cell_type": "code",
   "execution_count": 5,
   "metadata": {
    "collapsed": true
   },
   "outputs": [],
   "source": [
    "ms = [email.message_from_string(m)[\"To\"] for m in emails[\"message\"][0:100]]"
   ]
  },
  {
   "cell_type": "code",
   "execution_count": 6,
   "metadata": {},
   "outputs": [
    {
     "name": "stdout",
     "output_type": "stream",
     "text": [
      "<class 'pandas.core.frame.DataFrame'>\n",
      "RangeIndex: 517401 entries, 0 to 517400\n",
      "Data columns (total 2 columns):\n",
      "file       517401 non-null object\n",
      "message    517401 non-null object\n",
      "dtypes: object(2)\n",
      "memory usage: 7.9+ MB\n"
     ]
    }
   ],
   "source": [
    "emails.info()"
   ]
  },
  {
   "cell_type": "code",
   "execution_count": 7,
   "metadata": {
    "collapsed": true
   },
   "outputs": [],
   "source": [
    "ids = {}\n",
    "table = []\n",
    "I = 0\n",
    "for m in emails[\"message\"]:\n",
    "    obj = email.message_from_string(m)\n",
    "    to = obj[\"To\"]\n",
    "    fro = obj[\"From\"]\n",
    "    try:\n",
    "        if to != None:\n",
    "            es = re.split('[ \\r\\n\\t]*,[ \\r\\n\\t]*', to)\n",
    "            eg = re.split('[ \\r\\n\\t]*,[ \\r\\n\\t]*', fro)\n",
    "            ns = re.split(',', obj[\"X-To\"])\n",
    "            ng = re.split(',', obj[\"X-From\"])\n",
    "            for i in range(len(es)):\n",
    "                e = es[i]\n",
    "                if not e in ids:\n",
    "                    I+=1\n",
    "                    ids[e] = I\n",
    "                    table.append( (I, e, ns[i]) )\n",
    "            for i in range(len(eg)):\n",
    "                e = eg[i]\n",
    "                if not e in ids:\n",
    "                    I+=1\n",
    "                    ids[e] = I\n",
    "                    table.append( (I, e, ng[i]) )\n",
    "    except TypeError:\n",
    "        continue"
   ]
  },
  {
   "cell_type": "markdown",
   "metadata": {},
   "source": [
    "Получили первую таблицу: почта, имя и айди для каждого участника коммуникации."
   ]
  },
  {
   "cell_type": "code",
   "execution_count": 8,
   "metadata": {},
   "outputs": [
    {
     "data": {
      "text/plain": [
       "[(1, 'tim.belden@enron.com', 'Tim Belden <Tim Belden/Enron@EnronXGate>'),\n",
       " (2, 'phillip.allen@enron.com', 'Phillip K Allen'),\n",
       " (3,\n",
       "  'john.lavorato@enron.com',\n",
       "  'John J Lavorato <John J Lavorato/ENRON@enronXgate@ENRON>'),\n",
       " (4, 'leah.arsdall@enron.com', 'Leah Van Arsdall'),\n",
       " (5, 'randall.gay@enron.com', 'Randall L Gay'),\n",
       " (6, 'greg.piper@enron.com', 'Greg Piper'),\n",
       " (7, 'david.l.johnson@enron.com', 'david.l.johnson@enron.com'),\n",
       " (8, 'john.shafer@enron.com', ' John Shafer'),\n",
       " (9, 'joyce.teixeira@enron.com', 'Joyce Teixeira'),\n",
       " (10, 'mark.scott@enron.com', 'Mark Scott')]"
      ]
     },
     "execution_count": 8,
     "metadata": {},
     "output_type": "execute_result"
    }
   ],
   "source": [
    "table [:10]"
   ]
  },
  {
   "cell_type": "code",
   "execution_count": 9,
   "metadata": {
    "collapsed": true
   },
   "outputs": [],
   "source": [
    "names_df = pd.DataFrame(table)"
   ]
  },
  {
   "cell_type": "code",
   "execution_count": 10,
   "metadata": {
    "collapsed": true
   },
   "outputs": [],
   "source": [
    "names_df.columns = ['id', 'e-mail', 'name']"
   ]
  },
  {
   "cell_type": "code",
   "execution_count": 11,
   "metadata": {},
   "outputs": [
    {
     "data": {
      "text/html": [
       "<div>\n",
       "<style>\n",
       "    .dataframe thead tr:only-child th {\n",
       "        text-align: right;\n",
       "    }\n",
       "\n",
       "    .dataframe thead th {\n",
       "        text-align: left;\n",
       "    }\n",
       "\n",
       "    .dataframe tbody tr th {\n",
       "        vertical-align: top;\n",
       "    }\n",
       "</style>\n",
       "<table border=\"1\" class=\"dataframe\">\n",
       "  <thead>\n",
       "    <tr style=\"text-align: right;\">\n",
       "      <th></th>\n",
       "      <th>id</th>\n",
       "      <th>e-mail</th>\n",
       "      <th>name</th>\n",
       "    </tr>\n",
       "  </thead>\n",
       "  <tbody>\n",
       "    <tr>\n",
       "      <th>0</th>\n",
       "      <td>1</td>\n",
       "      <td>tim.belden@enron.com</td>\n",
       "      <td>Tim Belden &lt;Tim Belden/Enron@EnronXGate&gt;</td>\n",
       "    </tr>\n",
       "    <tr>\n",
       "      <th>1</th>\n",
       "      <td>2</td>\n",
       "      <td>phillip.allen@enron.com</td>\n",
       "      <td>Phillip K Allen</td>\n",
       "    </tr>\n",
       "    <tr>\n",
       "      <th>2</th>\n",
       "      <td>3</td>\n",
       "      <td>john.lavorato@enron.com</td>\n",
       "      <td>John J Lavorato &lt;John J Lavorato/ENRON@enronXg...</td>\n",
       "    </tr>\n",
       "    <tr>\n",
       "      <th>3</th>\n",
       "      <td>4</td>\n",
       "      <td>leah.arsdall@enron.com</td>\n",
       "      <td>Leah Van Arsdall</td>\n",
       "    </tr>\n",
       "    <tr>\n",
       "      <th>4</th>\n",
       "      <td>5</td>\n",
       "      <td>randall.gay@enron.com</td>\n",
       "      <td>Randall L Gay</td>\n",
       "    </tr>\n",
       "    <tr>\n",
       "      <th>5</th>\n",
       "      <td>6</td>\n",
       "      <td>greg.piper@enron.com</td>\n",
       "      <td>Greg Piper</td>\n",
       "    </tr>\n",
       "    <tr>\n",
       "      <th>6</th>\n",
       "      <td>7</td>\n",
       "      <td>david.l.johnson@enron.com</td>\n",
       "      <td>david.l.johnson@enron.com</td>\n",
       "    </tr>\n",
       "    <tr>\n",
       "      <th>7</th>\n",
       "      <td>8</td>\n",
       "      <td>john.shafer@enron.com</td>\n",
       "      <td>John Shafer</td>\n",
       "    </tr>\n",
       "    <tr>\n",
       "      <th>8</th>\n",
       "      <td>9</td>\n",
       "      <td>joyce.teixeira@enron.com</td>\n",
       "      <td>Joyce Teixeira</td>\n",
       "    </tr>\n",
       "    <tr>\n",
       "      <th>9</th>\n",
       "      <td>10</td>\n",
       "      <td>mark.scott@enron.com</td>\n",
       "      <td>Mark Scott</td>\n",
       "    </tr>\n",
       "  </tbody>\n",
       "</table>\n",
       "</div>"
      ],
      "text/plain": [
       "   id                     e-mail  \\\n",
       "0   1       tim.belden@enron.com   \n",
       "1   2    phillip.allen@enron.com   \n",
       "2   3    john.lavorato@enron.com   \n",
       "3   4     leah.arsdall@enron.com   \n",
       "4   5      randall.gay@enron.com   \n",
       "5   6       greg.piper@enron.com   \n",
       "6   7  david.l.johnson@enron.com   \n",
       "7   8      john.shafer@enron.com   \n",
       "8   9   joyce.teixeira@enron.com   \n",
       "9  10       mark.scott@enron.com   \n",
       "\n",
       "                                                name  \n",
       "0           Tim Belden <Tim Belden/Enron@EnronXGate>  \n",
       "1                                    Phillip K Allen  \n",
       "2  John J Lavorato <John J Lavorato/ENRON@enronXg...  \n",
       "3                                   Leah Van Arsdall  \n",
       "4                                      Randall L Gay  \n",
       "5                                         Greg Piper  \n",
       "6                          david.l.johnson@enron.com  \n",
       "7                                        John Shafer  \n",
       "8                                     Joyce Teixeira  \n",
       "9                                         Mark Scott  "
      ]
     },
     "execution_count": 11,
     "metadata": {},
     "output_type": "execute_result"
    }
   ],
   "source": [
    "names_df[:10]"
   ]
  },
  {
   "cell_type": "markdown",
   "metadata": {},
   "source": [
    "Теперь делаем таблицу с письмами."
   ]
  },
  {
   "cell_type": "code",
   "execution_count": 12,
   "metadata": {
    "collapsed": true
   },
   "outputs": [],
   "source": [
    "#ids = {}\n",
    "letters = []\n",
    "I = 0\n",
    "for m in emails[\"message\"]:\n",
    "    obj = email.message_from_string(m)\n",
    "    Date = obj[\"Date\"]\n",
    "    id_get = obj[\"To\"]\n",
    "    id_sent = obj[\"From\"]\n",
    "    payload = \"\"\n",
    "    try:\n",
    "        if obj.is_multipart: \n",
    "            payload = \"\".join([pl for pl in obj.get_payload()])\n",
    "        else:\n",
    "            payload = obj.get_payload();\n",
    "        to_ids = [ids[e] for e in re.split('[ \\r\\n\\t]*,[ \\r\\n\\t]*' , obj[\"To\"])]\n",
    "        letters.append((payload, Date, ids[obj[\"From\"]], to_ids))\n",
    "    except (TypeError, KeyError):\n",
    "        continue"
   ]
  },
  {
   "cell_type": "code",
   "execution_count": 43,
   "metadata": {},
   "outputs": [
    {
     "data": {
      "text/plain": [
       "('Here is our forecast\\n\\n ', 'Mon, 14 May 2001 16:39:00 -0700 (PDT)', 2, [1])"
      ]
     },
     "execution_count": 43,
     "metadata": {},
     "output_type": "execute_result"
    }
   ],
   "source": [
    "letters[0]"
   ]
  },
  {
   "cell_type": "code",
   "execution_count": 13,
   "metadata": {
    "collapsed": true
   },
   "outputs": [],
   "source": [
    "letters_df = pd.DataFrame(letters)"
   ]
  },
  {
   "cell_type": "code",
   "execution_count": 14,
   "metadata": {
    "collapsed": true
   },
   "outputs": [],
   "source": [
    "letters_df.columns = ['text', 'Date','from-id', 'to-id']"
   ]
  },
  {
   "cell_type": "code",
   "execution_count": 15,
   "metadata": {},
   "outputs": [
    {
     "data": {
      "text/html": [
       "<div>\n",
       "<style>\n",
       "    .dataframe thead tr:only-child th {\n",
       "        text-align: right;\n",
       "    }\n",
       "\n",
       "    .dataframe thead th {\n",
       "        text-align: left;\n",
       "    }\n",
       "\n",
       "    .dataframe tbody tr th {\n",
       "        vertical-align: top;\n",
       "    }\n",
       "</style>\n",
       "<table border=\"1\" class=\"dataframe\">\n",
       "  <thead>\n",
       "    <tr style=\"text-align: right;\">\n",
       "      <th></th>\n",
       "      <th>text</th>\n",
       "      <th>Date</th>\n",
       "      <th>from-id</th>\n",
       "      <th>to-id</th>\n",
       "    </tr>\n",
       "  </thead>\n",
       "  <tbody>\n",
       "    <tr>\n",
       "      <th>0</th>\n",
       "      <td>Here is our forecast\\n\\n</td>\n",
       "      <td>Mon, 14 May 2001 16:39:00 -0700 (PDT)</td>\n",
       "      <td>2</td>\n",
       "      <td>[1]</td>\n",
       "    </tr>\n",
       "    <tr>\n",
       "      <th>1</th>\n",
       "      <td>Traveling to have a business meeting takes the...</td>\n",
       "      <td>Fri, 4 May 2001 13:51:00 -0700 (PDT)</td>\n",
       "      <td>2</td>\n",
       "      <td>[3]</td>\n",
       "    </tr>\n",
       "    <tr>\n",
       "      <th>2</th>\n",
       "      <td>test successful.  way to go!!!</td>\n",
       "      <td>Wed, 18 Oct 2000 03:00:00 -0700 (PDT)</td>\n",
       "      <td>2</td>\n",
       "      <td>[4]</td>\n",
       "    </tr>\n",
       "    <tr>\n",
       "      <th>3</th>\n",
       "      <td>Randy,\\n\\n Can you send me a schedule of the s...</td>\n",
       "      <td>Mon, 23 Oct 2000 06:13:00 -0700 (PDT)</td>\n",
       "      <td>2</td>\n",
       "      <td>[5]</td>\n",
       "    </tr>\n",
       "    <tr>\n",
       "      <th>4</th>\n",
       "      <td>Let's shoot for Tuesday at 11:45.</td>\n",
       "      <td>Thu, 31 Aug 2000 05:07:00 -0700 (PDT)</td>\n",
       "      <td>2</td>\n",
       "      <td>[6]</td>\n",
       "    </tr>\n",
       "    <tr>\n",
       "      <th>5</th>\n",
       "      <td>Greg,\\n\\n How about either next Tuesday or Thu...</td>\n",
       "      <td>Thu, 31 Aug 2000 04:17:00 -0700 (PDT)</td>\n",
       "      <td>2</td>\n",
       "      <td>[6]</td>\n",
       "    </tr>\n",
       "    <tr>\n",
       "      <th>6</th>\n",
       "      <td>Please cc the following distribution list with...</td>\n",
       "      <td>Tue, 22 Aug 2000 07:44:00 -0700 (PDT)</td>\n",
       "      <td>2</td>\n",
       "      <td>[7, 8]</td>\n",
       "    </tr>\n",
       "    <tr>\n",
       "      <th>7</th>\n",
       "      <td>any morning between 10 and 11:30</td>\n",
       "      <td>Fri, 14 Jul 2000 06:59:00 -0700 (PDT)</td>\n",
       "      <td>2</td>\n",
       "      <td>[9]</td>\n",
       "    </tr>\n",
       "    <tr>\n",
       "      <th>8</th>\n",
       "      <td>1. login:  pallen pw: ke9davis\\n\\n I don't thi...</td>\n",
       "      <td>Tue, 17 Oct 2000 02:26:00 -0700 (PDT)</td>\n",
       "      <td>2</td>\n",
       "      <td>[10]</td>\n",
       "    </tr>\n",
       "    <tr>\n",
       "      <th>9</th>\n",
       "      <td>---------------------- Forwarded by Phillip K ...</td>\n",
       "      <td>Mon, 16 Oct 2000 06:44:00 -0700 (PDT)</td>\n",
       "      <td>2</td>\n",
       "      <td>[11]</td>\n",
       "    </tr>\n",
       "    <tr>\n",
       "      <th>10</th>\n",
       "      <td>Mr. Buckner,\\n\\n For delivered gas behind San ...</td>\n",
       "      <td>Mon, 16 Oct 2000 06:42:00 -0700 (PDT)</td>\n",
       "      <td>2</td>\n",
       "      <td>[12]</td>\n",
       "    </tr>\n",
       "    <tr>\n",
       "      <th>11</th>\n",
       "      <td>Lucy,\\n\\n Here are the rentrolls:\\n\\n\\n\\n Open...</td>\n",
       "      <td>Fri, 13 Oct 2000 06:45:00 -0700 (PDT)</td>\n",
       "      <td>2</td>\n",
       "      <td>[13]</td>\n",
       "    </tr>\n",
       "    <tr>\n",
       "      <th>12</th>\n",
       "      <td>---------------------- Forwarded by Phillip K ...</td>\n",
       "      <td>Mon, 9 Oct 2000 07:16:00 -0700 (PDT)</td>\n",
       "      <td>2</td>\n",
       "      <td>[14]</td>\n",
       "    </tr>\n",
       "    <tr>\n",
       "      <th>13</th>\n",
       "      <td>---------------------- Forwarded by Phillip K ...</td>\n",
       "      <td>Mon, 9 Oct 2000 07:00:00 -0700 (PDT)</td>\n",
       "      <td>2</td>\n",
       "      <td>[14]</td>\n",
       "    </tr>\n",
       "    <tr>\n",
       "      <th>14</th>\n",
       "      <td>Dave, \\n\\n Here are the names of the west desk...</td>\n",
       "      <td>Thu, 5 Oct 2000 06:26:00 -0700 (PDT)</td>\n",
       "      <td>2</td>\n",
       "      <td>[15]</td>\n",
       "    </tr>\n",
       "    <tr>\n",
       "      <th>15</th>\n",
       "      <td>Paula,\\n\\n 35 million is fine\\n\\nPhillip</td>\n",
       "      <td>Thu, 5 Oct 2000 05:55:00 -0700 (PDT)</td>\n",
       "      <td>2</td>\n",
       "      <td>[16]</td>\n",
       "    </tr>\n",
       "    <tr>\n",
       "      <th>16</th>\n",
       "      <td>---------------------- Forwarded by Phillip K ...</td>\n",
       "      <td>Wed, 4 Oct 2000 09:23:00 -0700 (PDT)</td>\n",
       "      <td>2</td>\n",
       "      <td>[17]</td>\n",
       "    </tr>\n",
       "    <tr>\n",
       "      <th>17</th>\n",
       "      <td>Tim,\\n\\nmike grigsby is having problems with a...</td>\n",
       "      <td>Fri, 4 May 2001 11:26:00 -0700 (PDT)</td>\n",
       "      <td>2</td>\n",
       "      <td>[18]</td>\n",
       "    </tr>\n",
       "    <tr>\n",
       "      <th>18</th>\n",
       "      <td>---------------------- Forwarded by Phillip K ...</td>\n",
       "      <td>Tue, 3 Oct 2000 09:30:00 -0700 (PDT)</td>\n",
       "      <td>2</td>\n",
       "      <td>[19]</td>\n",
       "    </tr>\n",
       "    <tr>\n",
       "      <th>19</th>\n",
       "      <td>---------------------- Forwarded by Phillip K ...</td>\n",
       "      <td>Tue, 3 Oct 2000 09:15:00 -0700 (PDT)</td>\n",
       "      <td>2</td>\n",
       "      <td>[17]</td>\n",
       "    </tr>\n",
       "  </tbody>\n",
       "</table>\n",
       "</div>"
      ],
      "text/plain": [
       "                                                 text  \\\n",
       "0                           Here is our forecast\\n\\n    \n",
       "1   Traveling to have a business meeting takes the...   \n",
       "2                      test successful.  way to go!!!   \n",
       "3   Randy,\\n\\n Can you send me a schedule of the s...   \n",
       "4                 Let's shoot for Tuesday at 11:45.     \n",
       "5   Greg,\\n\\n How about either next Tuesday or Thu...   \n",
       "6   Please cc the following distribution list with...   \n",
       "7                    any morning between 10 and 11:30   \n",
       "8   1. login:  pallen pw: ke9davis\\n\\n I don't thi...   \n",
       "9   ---------------------- Forwarded by Phillip K ...   \n",
       "10  Mr. Buckner,\\n\\n For delivered gas behind San ...   \n",
       "11  Lucy,\\n\\n Here are the rentrolls:\\n\\n\\n\\n Open...   \n",
       "12  ---------------------- Forwarded by Phillip K ...   \n",
       "13  ---------------------- Forwarded by Phillip K ...   \n",
       "14  Dave, \\n\\n Here are the names of the west desk...   \n",
       "15           Paula,\\n\\n 35 million is fine\\n\\nPhillip   \n",
       "16  ---------------------- Forwarded by Phillip K ...   \n",
       "17  Tim,\\n\\nmike grigsby is having problems with a...   \n",
       "18  ---------------------- Forwarded by Phillip K ...   \n",
       "19  ---------------------- Forwarded by Phillip K ...   \n",
       "\n",
       "                                     Date  from-id   to-id  \n",
       "0   Mon, 14 May 2001 16:39:00 -0700 (PDT)        2     [1]  \n",
       "1    Fri, 4 May 2001 13:51:00 -0700 (PDT)        2     [3]  \n",
       "2   Wed, 18 Oct 2000 03:00:00 -0700 (PDT)        2     [4]  \n",
       "3   Mon, 23 Oct 2000 06:13:00 -0700 (PDT)        2     [5]  \n",
       "4   Thu, 31 Aug 2000 05:07:00 -0700 (PDT)        2     [6]  \n",
       "5   Thu, 31 Aug 2000 04:17:00 -0700 (PDT)        2     [6]  \n",
       "6   Tue, 22 Aug 2000 07:44:00 -0700 (PDT)        2  [7, 8]  \n",
       "7   Fri, 14 Jul 2000 06:59:00 -0700 (PDT)        2     [9]  \n",
       "8   Tue, 17 Oct 2000 02:26:00 -0700 (PDT)        2    [10]  \n",
       "9   Mon, 16 Oct 2000 06:44:00 -0700 (PDT)        2    [11]  \n",
       "10  Mon, 16 Oct 2000 06:42:00 -0700 (PDT)        2    [12]  \n",
       "11  Fri, 13 Oct 2000 06:45:00 -0700 (PDT)        2    [13]  \n",
       "12   Mon, 9 Oct 2000 07:16:00 -0700 (PDT)        2    [14]  \n",
       "13   Mon, 9 Oct 2000 07:00:00 -0700 (PDT)        2    [14]  \n",
       "14   Thu, 5 Oct 2000 06:26:00 -0700 (PDT)        2    [15]  \n",
       "15   Thu, 5 Oct 2000 05:55:00 -0700 (PDT)        2    [16]  \n",
       "16   Wed, 4 Oct 2000 09:23:00 -0700 (PDT)        2    [17]  \n",
       "17   Fri, 4 May 2001 11:26:00 -0700 (PDT)        2    [18]  \n",
       "18   Tue, 3 Oct 2000 09:30:00 -0700 (PDT)        2    [19]  \n",
       "19   Tue, 3 Oct 2000 09:15:00 -0700 (PDT)        2    [17]  "
      ]
     },
     "execution_count": 15,
     "metadata": {},
     "output_type": "execute_result"
    }
   ],
   "source": [
    "letters_df[:20]"
   ]
  },
  {
   "cell_type": "code",
   "execution_count": 16,
   "metadata": {
    "collapsed": true
   },
   "outputs": [],
   "source": [
    "letters_info = letters_df.groupby('from-id')['text'].nunique()"
   ]
  },
  {
   "cell_type": "code",
   "execution_count": 27,
   "metadata": {
    "collapsed": true
   },
   "outputs": [],
   "source": [
    "#lshape = letters_info.shape"
   ]
  },
  {
   "cell_type": "code",
   "execution_count": 41,
   "metadata": {},
   "outputs": [
    {
     "data": {
      "text/plain": [
       "'tim.belden@enron.com'"
      ]
     },
     "execution_count": 41,
     "metadata": {},
     "output_type": "execute_result"
    }
   ],
   "source": [
    "lshape = (len(ids), len(ids))\n",
    "lshape\n",
    "table[0][1]"
   ]
  },
  {
   "cell_type": "markdown",
   "metadata": {},
   "source": [
    "Задание 2 (15 баллов)\n",
    "\n",
    "Сформируйте матрицу $A = (a_{ij})_{i,j = 1}^N$, где $a_{ij}$ - количество писем, которое индивид $i$ отправил индивиду $j$, $N$ - количество индивидуумов\n",
    "\n",
    "Далее из матрицы $A$ получим симметричную матрицу, которая будет показывать нам частоту коммуникаций между каждой парой индивидов: $A+A^T$. Постройте по данной матрице не направленный граф, где узлы должны называться по именам, которые вы извлекли из X-From и X-To"
   ]
  },
  {
   "cell_type": "code",
   "execution_count": 18,
   "metadata": {
    "collapsed": true
   },
   "outputs": [],
   "source": [
    "from itertools import chain"
   ]
  },
  {
   "cell_type": "code",
   "execution_count": 19,
   "metadata": {
    "collapsed": true
   },
   "outputs": [],
   "source": [
    "%matplotlib inline\n",
    "import matplotlib.pyplot as plt\n",
    "\n",
    "from itertools import combinations\n",
    "from sklearn.preprocessing import LabelEncoder\n"
   ]
  },
  {
   "cell_type": "code",
   "execution_count": 47,
   "metadata": {
    "collapsed": true
   },
   "outputs": [],
   "source": [
    "from scipy.sparse import csr_matrix"
   ]
  },
  {
   "cell_type": "code",
   "execution_count": 42,
   "metadata": {},
   "outputs": [
    {
     "data": {
      "text/plain": [
       "(1, 'tim.belden@enron.com', 'Tim Belden <Tim Belden/Enron@EnronXGate>')"
      ]
     },
     "execution_count": 42,
     "metadata": {},
     "output_type": "execute_result"
    }
   ],
   "source": [
    "table[0]"
   ]
  },
  {
   "cell_type": "code",
   "execution_count": 48,
   "metadata": {
    "collapsed": true
   },
   "outputs": [],
   "source": [
    "def mat(letters, shape):\n",
    "    pre = {}\n",
    "    row = np.array([])\n",
    "    col = np.array([])\n",
    "    data = np.array([])\n",
    "    for letter in letters:\n",
    "        fr = letter[2]\n",
    "        for to in letter[3]:\n",
    "            s = \"{},{}\".format(fr, to)\n",
    "            if s in pre:\n",
    "                pre[s]+=1\n",
    "            else:\n",
    "                pre[s]=1\n",
    "    for s in pre:\n",
    "        d = s.split(',')\n",
    "        fr = int(d[0])-1\n",
    "        to = int(d[1])-1\n",
    "        row = np.append(row, fr)\n",
    "        col = np.append(col, to)\n",
    "        data = np.append(data, pre[s])\n",
    "    print(row.size, col.size, data.size)\n",
    "    print(shape)\n",
    "    return csr_matrix((data, (row, col)), shape=shape)\n"
   ]
  },
  {
   "cell_type": "code",
   "execution_count": 49,
   "metadata": {},
   "outputs": [
    {
     "name": "stdout",
     "output_type": "stream",
     "text": [
      "311206 311206 311206\n",
      "(79736, 79736)\n"
     ]
    }
   ],
   "source": [
    "lmatrix = mat(letters, lshape)"
   ]
  },
  {
   "cell_type": "code",
   "execution_count": 50,
   "metadata": {
    "collapsed": true
   },
   "outputs": [],
   "source": [
    "np.save('letter_matrix', lmatrix)"
   ]
  },
  {
   "cell_type": "code",
   "execution_count": null,
   "metadata": {
    "collapsed": true
   },
   "outputs": [],
   "source": [
    "plt.matshow(lmatrix)\n",
    "plt.colorbar()\n",
    "\n",
    "plt.xticks(np.arange(shape), le.classes_, rotation=90)\n",
    "plt.yticks(np.arange(lshape), le.classes_)\n",
    "\n",
    "plt.show()"
   ]
  },
  {
   "cell_type": "markdown",
   "metadata": {},
   "source": [
    "Задание 3 (25 баллов)\n",
    "\n",
    "Оцените важность отдельных узлов, используя следующие меры:\n",
    "\n",
    "Degree centrality\n",
    "Closeness centrality\n",
    "Betweenness centrality\n",
    "Eigenvector centrality\n",
    "Подробнее читайте в статье: УЗЛЫ В СОЦИАЛЬНЫХ СЕТЯХ: МЕРЫ ЦЕНТРАЛЬНОСТИ И РОЛЬ В СЕТЕВЫХ ПРОЦЕССАХ\n",
    "\n",
    "Для каждой меры центральности выведите топ пользователей"
   ]
  },
  {
   "cell_type": "code",
   "execution_count": null,
   "metadata": {
    "collapsed": true
   },
   "outputs": [],
   "source": [
    "import networkx as nx\n",
    "\n",
    "G = nx.Graph(A/A.max())\n",
    "\n",
    "plt.figure(figsize=(15, 15))\n",
    "nx.draw(G, labels = dict(zip(range(N), le.classes_)), with_labels = True)\n",
    "plt.show()"
   ]
  },
  {
   "cell_type": "markdown",
   "metadata": {},
   "source": [
    "Бонусное задание (25 баллов)\n",
    "\n",
    "Выделите темы, которые обсуждаются в письмах.\n",
    "\n",
    "Выберите одну из мер центральности и для топа пользователей по данной мере укажите, какие темы они обсуждают чаще всего и с кем."
   ]
  }
 ],
 "metadata": {
  "kernelspec": {
   "display_name": "Python 3",
   "language": "python",
   "name": "python3"
  },
  "language_info": {
   "codemirror_mode": {
    "name": "ipython",
    "version": 3
   },
   "file_extension": ".py",
   "mimetype": "text/x-python",
   "name": "python",
   "nbconvert_exporter": "python",
   "pygments_lexer": "ipython3",
   "version": "3.6.1"
  }
 },
 "nbformat": 4,
 "nbformat_minor": 2
}
